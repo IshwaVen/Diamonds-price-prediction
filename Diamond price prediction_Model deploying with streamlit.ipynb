{
 "cells": [
  {
   "cell_type": "code",
   "execution_count": 91,
   "id": "af031d83",
   "metadata": {
    "scrolled": true
   },
   "outputs": [
    {
     "name": "stdout",
     "output_type": "stream",
     "text": [
      "Skipping, found downloaded files in \".\\diamonds\" (use force=True to force download)\n"
     ]
    }
   ],
   "source": [
    "# Downloading Dataset directly from Kaggle\n",
    "\n",
    "import opendatasets as od\n",
    "\n",
    "od.download(\"https://www.kaggle.com/datasets/natedir/diamonds\")"
   ]
  },
  {
   "cell_type": "code",
   "execution_count": 162,
   "id": "bed1d660",
   "metadata": {},
   "outputs": [
    {
     "name": "stdout",
     "output_type": "stream",
     "text": [
      "1.5.3\n",
      "1.23.5\n"
     ]
    }
   ],
   "source": [
    "## To get the version name of teh module\n",
    "# pip show pandas\n",
    "import numpy as np\n",
    "print(pd.__version__)\n",
    "print(np.__version__)"
   ]
  },
  {
   "cell_type": "code",
   "execution_count": null,
   "id": "5010bde2",
   "metadata": {},
   "outputs": [],
   "source": []
  },
  {
   "cell_type": "code",
   "execution_count": 150,
   "id": "60d6904e",
   "metadata": {},
   "outputs": [],
   "source": [
    "import pandas as pd\n",
    "from xgboost import XGBRegressor\n",
    "import seaborn as sns\n",
    "from sklearn.model_selection import train_test_split\n",
    "from sklearn.model_selection import GridSearchCV\n",
    "from sklearn.metrics import mean_absolute_error, mean_squared_error, r2_score\n",
    "import matplotlib.pyplot as plt"
   ]
  },
  {
   "cell_type": "code",
   "execution_count": 107,
   "id": "4c15c67e",
   "metadata": {
    "scrolled": true
   },
   "outputs": [],
   "source": [
    "# Carat- Carat weight of the diamond\n",
    "# Cut - The cut rating of the diamond\n",
    "# Color - The color rating of the diamond\n",
    "# Clarity - The clarity rating of the diamond\n",
    "# Table - The table width of the diamond\n",
    "# Depth- The percentage of depth of the diamond\n",
    "# Price - The price (in USD) of the diamond\n",
    "# X- X dimension of the diamond\n",
    "# Y- Y dimension of the diamond\n",
    "# Z- Z dimension of the diamond\n",
    "\n",
    "diamonds = pd.read_csv('C:\\\\Users\\\\12392\\\\Untitled Folder\\\\diamonds\\\\diamonds.csv', index_col=0)"
   ]
  },
  {
   "cell_type": "code",
   "execution_count": 108,
   "id": "342bd24e",
   "metadata": {},
   "outputs": [
    {
     "data": {
      "text/html": [
       "<div>\n",
       "<style scoped>\n",
       "    .dataframe tbody tr th:only-of-type {\n",
       "        vertical-align: middle;\n",
       "    }\n",
       "\n",
       "    .dataframe tbody tr th {\n",
       "        vertical-align: top;\n",
       "    }\n",
       "\n",
       "    .dataframe thead th {\n",
       "        text-align: right;\n",
       "    }\n",
       "</style>\n",
       "<table border=\"1\" class=\"dataframe\">\n",
       "  <thead>\n",
       "    <tr style=\"text-align: right;\">\n",
       "      <th></th>\n",
       "      <th>carat</th>\n",
       "      <th>cut</th>\n",
       "      <th>color</th>\n",
       "      <th>clarity</th>\n",
       "      <th>depth</th>\n",
       "      <th>table</th>\n",
       "      <th>price</th>\n",
       "      <th>x</th>\n",
       "      <th>y</th>\n",
       "      <th>z</th>\n",
       "    </tr>\n",
       "  </thead>\n",
       "  <tbody>\n",
       "    <tr>\n",
       "      <th>1</th>\n",
       "      <td>0.23</td>\n",
       "      <td>Ideal</td>\n",
       "      <td>E</td>\n",
       "      <td>SI2</td>\n",
       "      <td>61.5</td>\n",
       "      <td>55.0</td>\n",
       "      <td>326</td>\n",
       "      <td>3.95</td>\n",
       "      <td>3.98</td>\n",
       "      <td>2.43</td>\n",
       "    </tr>\n",
       "    <tr>\n",
       "      <th>2</th>\n",
       "      <td>0.21</td>\n",
       "      <td>Premium</td>\n",
       "      <td>E</td>\n",
       "      <td>SI1</td>\n",
       "      <td>59.8</td>\n",
       "      <td>61.0</td>\n",
       "      <td>326</td>\n",
       "      <td>3.89</td>\n",
       "      <td>3.84</td>\n",
       "      <td>2.31</td>\n",
       "    </tr>\n",
       "    <tr>\n",
       "      <th>3</th>\n",
       "      <td>0.23</td>\n",
       "      <td>Good</td>\n",
       "      <td>E</td>\n",
       "      <td>VS1</td>\n",
       "      <td>56.9</td>\n",
       "      <td>65.0</td>\n",
       "      <td>327</td>\n",
       "      <td>4.05</td>\n",
       "      <td>4.07</td>\n",
       "      <td>2.31</td>\n",
       "    </tr>\n",
       "    <tr>\n",
       "      <th>4</th>\n",
       "      <td>0.29</td>\n",
       "      <td>Premium</td>\n",
       "      <td>I</td>\n",
       "      <td>VS2</td>\n",
       "      <td>62.4</td>\n",
       "      <td>58.0</td>\n",
       "      <td>334</td>\n",
       "      <td>4.20</td>\n",
       "      <td>4.23</td>\n",
       "      <td>2.63</td>\n",
       "    </tr>\n",
       "    <tr>\n",
       "      <th>5</th>\n",
       "      <td>0.31</td>\n",
       "      <td>Good</td>\n",
       "      <td>J</td>\n",
       "      <td>SI2</td>\n",
       "      <td>63.3</td>\n",
       "      <td>58.0</td>\n",
       "      <td>335</td>\n",
       "      <td>4.34</td>\n",
       "      <td>4.35</td>\n",
       "      <td>2.75</td>\n",
       "    </tr>\n",
       "    <tr>\n",
       "      <th>6</th>\n",
       "      <td>0.24</td>\n",
       "      <td>Very Good</td>\n",
       "      <td>J</td>\n",
       "      <td>VVS2</td>\n",
       "      <td>62.8</td>\n",
       "      <td>57.0</td>\n",
       "      <td>336</td>\n",
       "      <td>3.94</td>\n",
       "      <td>3.96</td>\n",
       "      <td>2.48</td>\n",
       "    </tr>\n",
       "    <tr>\n",
       "      <th>7</th>\n",
       "      <td>0.24</td>\n",
       "      <td>Very Good</td>\n",
       "      <td>I</td>\n",
       "      <td>VVS1</td>\n",
       "      <td>62.3</td>\n",
       "      <td>57.0</td>\n",
       "      <td>336</td>\n",
       "      <td>3.95</td>\n",
       "      <td>3.98</td>\n",
       "      <td>2.47</td>\n",
       "    </tr>\n",
       "    <tr>\n",
       "      <th>8</th>\n",
       "      <td>0.26</td>\n",
       "      <td>Very Good</td>\n",
       "      <td>H</td>\n",
       "      <td>SI1</td>\n",
       "      <td>61.9</td>\n",
       "      <td>55.0</td>\n",
       "      <td>337</td>\n",
       "      <td>4.07</td>\n",
       "      <td>4.11</td>\n",
       "      <td>2.53</td>\n",
       "    </tr>\n",
       "    <tr>\n",
       "      <th>9</th>\n",
       "      <td>0.22</td>\n",
       "      <td>Fair</td>\n",
       "      <td>E</td>\n",
       "      <td>VS2</td>\n",
       "      <td>65.1</td>\n",
       "      <td>61.0</td>\n",
       "      <td>337</td>\n",
       "      <td>3.87</td>\n",
       "      <td>3.78</td>\n",
       "      <td>2.49</td>\n",
       "    </tr>\n",
       "    <tr>\n",
       "      <th>10</th>\n",
       "      <td>0.23</td>\n",
       "      <td>Very Good</td>\n",
       "      <td>H</td>\n",
       "      <td>VS1</td>\n",
       "      <td>59.4</td>\n",
       "      <td>61.0</td>\n",
       "      <td>338</td>\n",
       "      <td>4.00</td>\n",
       "      <td>4.05</td>\n",
       "      <td>2.39</td>\n",
       "    </tr>\n",
       "  </tbody>\n",
       "</table>\n",
       "</div>"
      ],
      "text/plain": [
       "    carat        cut color clarity  depth  table  price     x     y     z\n",
       "1    0.23      Ideal     E     SI2   61.5   55.0    326  3.95  3.98  2.43\n",
       "2    0.21    Premium     E     SI1   59.8   61.0    326  3.89  3.84  2.31\n",
       "3    0.23       Good     E     VS1   56.9   65.0    327  4.05  4.07  2.31\n",
       "4    0.29    Premium     I     VS2   62.4   58.0    334  4.20  4.23  2.63\n",
       "5    0.31       Good     J     SI2   63.3   58.0    335  4.34  4.35  2.75\n",
       "6    0.24  Very Good     J    VVS2   62.8   57.0    336  3.94  3.96  2.48\n",
       "7    0.24  Very Good     I    VVS1   62.3   57.0    336  3.95  3.98  2.47\n",
       "8    0.26  Very Good     H     SI1   61.9   55.0    337  4.07  4.11  2.53\n",
       "9    0.22       Fair     E     VS2   65.1   61.0    337  3.87  3.78  2.49\n",
       "10   0.23  Very Good     H     VS1   59.4   61.0    338  4.00  4.05  2.39"
      ]
     },
     "execution_count": 108,
     "metadata": {},
     "output_type": "execute_result"
    }
   ],
   "source": [
    "diamonds.head(10)"
   ]
  },
  {
   "cell_type": "code",
   "execution_count": 109,
   "id": "8ea8a0bf",
   "metadata": {},
   "outputs": [
    {
     "data": {
      "text/plain": [
       "(53940, 10)"
      ]
     },
     "execution_count": 109,
     "metadata": {},
     "output_type": "execute_result"
    }
   ],
   "source": [
    "# dataset features and size\n",
    "diamonds.shape"
   ]
  },
  {
   "cell_type": "code",
   "execution_count": 110,
   "id": "6e86c8b7",
   "metadata": {},
   "outputs": [
    {
     "data": {
      "text/plain": [
       "carat      0\n",
       "cut        0\n",
       "color      0\n",
       "clarity    0\n",
       "depth      0\n",
       "table      0\n",
       "price      0\n",
       "x          0\n",
       "y          0\n",
       "z          0\n",
       "dtype: int64"
      ]
     },
     "execution_count": 110,
     "metadata": {},
     "output_type": "execute_result"
    }
   ],
   "source": [
    "# null values check \n",
    "diamonds.isna().sum()"
   ]
  },
  {
   "cell_type": "code",
   "execution_count": 111,
   "id": "0e444106",
   "metadata": {},
   "outputs": [
    {
     "data": {
      "text/plain": [
       "carat      float64\n",
       "cut         object\n",
       "color       object\n",
       "clarity     object\n",
       "depth      float64\n",
       "table      float64\n",
       "price        int64\n",
       "x          float64\n",
       "y          float64\n",
       "z          float64\n",
       "dtype: object"
      ]
     },
     "execution_count": 111,
     "metadata": {},
     "output_type": "execute_result"
    }
   ],
   "source": [
    "# datatype check\n",
    "diamonds.dtypes"
   ]
  },
  {
   "cell_type": "code",
   "execution_count": 112,
   "id": "b9ae375a",
   "metadata": {},
   "outputs": [
    {
     "data": {
      "text/plain": [
       "Ideal        21551\n",
       "Premium      13791\n",
       "Very Good    12082\n",
       "Good          4906\n",
       "Fair          1610\n",
       "Name: cut, dtype: int64"
      ]
     },
     "execution_count": 112,
     "metadata": {},
     "output_type": "execute_result"
    }
   ],
   "source": [
    "# Data Preparation\n",
    "# cut, color, clarity are of object type, i.e. ordinal categorial values\n",
    "\n",
    "# scale is Ideal (High)>Premium>Very Good> Good>Fair\n",
    "diamonds.cut.value_counts()"
   ]
  },
  {
   "cell_type": "code",
   "execution_count": 113,
   "id": "bb989454",
   "metadata": {},
   "outputs": [
    {
     "data": {
      "text/plain": [
       "G    11292\n",
       "E     9797\n",
       "F     9542\n",
       "H     8304\n",
       "D     6775\n",
       "I     5422\n",
       "J     2808\n",
       "Name: color, dtype: int64"
      ]
     },
     "execution_count": 113,
     "metadata": {},
     "output_type": "execute_result"
    }
   ],
   "source": [
    "diamonds.color.value_counts()"
   ]
  },
  {
   "cell_type": "code",
   "execution_count": 102,
   "id": "ec71c88a",
   "metadata": {},
   "outputs": [
    {
     "data": {
      "text/plain": [
       "SI1     13065\n",
       "VS2     12258\n",
       "SI2      9194\n",
       "VS1      8171\n",
       "VVS2     5066\n",
       "VVS1     3655\n",
       "IF       1790\n",
       "I1        741\n",
       "Name: clarity, dtype: int64"
      ]
     },
     "execution_count": 102,
     "metadata": {},
     "output_type": "execute_result"
    }
   ],
   "source": [
    "diamonds.clarity.value_counts()"
   ]
  },
  {
   "cell_type": "code",
   "execution_count": 114,
   "id": "5c1f9a95",
   "metadata": {},
   "outputs": [],
   "source": [
    "# Data conversion from Ordinal categorial to numeric form\n",
    "\n",
    "# Technique: Mapping or Ordinal Encoding (sci-kit) or one hot encoding (sci-kit) \n",
    "\n",
    "# Encoding cut variable\n",
    "cut_mapping = {'Fair':0, 'Good':1, 'Very Good':2, 'Premium':3, 'Ideal':4}\n",
    "diamonds.cut = diamonds.cut.map(cut_mapping)\n",
    "\n",
    "# Encoding color variable\n",
    "color_mapping = {'J':0, 'I':1, 'D':2, 'H':3, 'F':4, 'E':5,'G':6}\n",
    "diamonds.color = diamonds.color.map(color_mapping)\n",
    "\n",
    "# Encoding clarity variable\n",
    "clarity_mapping = {'I1':0, 'IF':7, 'VVS1':6, 'VVS2':5, 'VS1':4, 'SI2':1,'VS2':3, 'SI1':2}\n",
    "diamonds.clarity = diamonds.clarity.map(clarity_mapping)"
   ]
  },
  {
   "cell_type": "code",
   "execution_count": 115,
   "id": "98ee117f",
   "metadata": {},
   "outputs": [
    {
     "data": {
      "text/html": [
       "<div>\n",
       "<style scoped>\n",
       "    .dataframe tbody tr th:only-of-type {\n",
       "        vertical-align: middle;\n",
       "    }\n",
       "\n",
       "    .dataframe tbody tr th {\n",
       "        vertical-align: top;\n",
       "    }\n",
       "\n",
       "    .dataframe thead th {\n",
       "        text-align: right;\n",
       "    }\n",
       "</style>\n",
       "<table border=\"1\" class=\"dataframe\">\n",
       "  <thead>\n",
       "    <tr style=\"text-align: right;\">\n",
       "      <th></th>\n",
       "      <th>carat</th>\n",
       "      <th>cut</th>\n",
       "      <th>color</th>\n",
       "      <th>clarity</th>\n",
       "      <th>depth</th>\n",
       "      <th>table</th>\n",
       "      <th>price</th>\n",
       "      <th>x</th>\n",
       "      <th>y</th>\n",
       "      <th>z</th>\n",
       "    </tr>\n",
       "  </thead>\n",
       "  <tbody>\n",
       "    <tr>\n",
       "      <th>1</th>\n",
       "      <td>0.23</td>\n",
       "      <td>4</td>\n",
       "      <td>5</td>\n",
       "      <td>1</td>\n",
       "      <td>61.5</td>\n",
       "      <td>55.0</td>\n",
       "      <td>326</td>\n",
       "      <td>3.95</td>\n",
       "      <td>3.98</td>\n",
       "      <td>2.43</td>\n",
       "    </tr>\n",
       "    <tr>\n",
       "      <th>2</th>\n",
       "      <td>0.21</td>\n",
       "      <td>3</td>\n",
       "      <td>5</td>\n",
       "      <td>2</td>\n",
       "      <td>59.8</td>\n",
       "      <td>61.0</td>\n",
       "      <td>326</td>\n",
       "      <td>3.89</td>\n",
       "      <td>3.84</td>\n",
       "      <td>2.31</td>\n",
       "    </tr>\n",
       "    <tr>\n",
       "      <th>3</th>\n",
       "      <td>0.23</td>\n",
       "      <td>1</td>\n",
       "      <td>5</td>\n",
       "      <td>4</td>\n",
       "      <td>56.9</td>\n",
       "      <td>65.0</td>\n",
       "      <td>327</td>\n",
       "      <td>4.05</td>\n",
       "      <td>4.07</td>\n",
       "      <td>2.31</td>\n",
       "    </tr>\n",
       "    <tr>\n",
       "      <th>4</th>\n",
       "      <td>0.29</td>\n",
       "      <td>3</td>\n",
       "      <td>1</td>\n",
       "      <td>3</td>\n",
       "      <td>62.4</td>\n",
       "      <td>58.0</td>\n",
       "      <td>334</td>\n",
       "      <td>4.20</td>\n",
       "      <td>4.23</td>\n",
       "      <td>2.63</td>\n",
       "    </tr>\n",
       "    <tr>\n",
       "      <th>5</th>\n",
       "      <td>0.31</td>\n",
       "      <td>1</td>\n",
       "      <td>0</td>\n",
       "      <td>1</td>\n",
       "      <td>63.3</td>\n",
       "      <td>58.0</td>\n",
       "      <td>335</td>\n",
       "      <td>4.34</td>\n",
       "      <td>4.35</td>\n",
       "      <td>2.75</td>\n",
       "    </tr>\n",
       "    <tr>\n",
       "      <th>...</th>\n",
       "      <td>...</td>\n",
       "      <td>...</td>\n",
       "      <td>...</td>\n",
       "      <td>...</td>\n",
       "      <td>...</td>\n",
       "      <td>...</td>\n",
       "      <td>...</td>\n",
       "      <td>...</td>\n",
       "      <td>...</td>\n",
       "      <td>...</td>\n",
       "    </tr>\n",
       "    <tr>\n",
       "      <th>53936</th>\n",
       "      <td>0.72</td>\n",
       "      <td>4</td>\n",
       "      <td>2</td>\n",
       "      <td>2</td>\n",
       "      <td>60.8</td>\n",
       "      <td>57.0</td>\n",
       "      <td>2757</td>\n",
       "      <td>5.75</td>\n",
       "      <td>5.76</td>\n",
       "      <td>3.50</td>\n",
       "    </tr>\n",
       "    <tr>\n",
       "      <th>53937</th>\n",
       "      <td>0.72</td>\n",
       "      <td>1</td>\n",
       "      <td>2</td>\n",
       "      <td>2</td>\n",
       "      <td>63.1</td>\n",
       "      <td>55.0</td>\n",
       "      <td>2757</td>\n",
       "      <td>5.69</td>\n",
       "      <td>5.75</td>\n",
       "      <td>3.61</td>\n",
       "    </tr>\n",
       "    <tr>\n",
       "      <th>53938</th>\n",
       "      <td>0.70</td>\n",
       "      <td>2</td>\n",
       "      <td>2</td>\n",
       "      <td>2</td>\n",
       "      <td>62.8</td>\n",
       "      <td>60.0</td>\n",
       "      <td>2757</td>\n",
       "      <td>5.66</td>\n",
       "      <td>5.68</td>\n",
       "      <td>3.56</td>\n",
       "    </tr>\n",
       "    <tr>\n",
       "      <th>53939</th>\n",
       "      <td>0.86</td>\n",
       "      <td>3</td>\n",
       "      <td>3</td>\n",
       "      <td>1</td>\n",
       "      <td>61.0</td>\n",
       "      <td>58.0</td>\n",
       "      <td>2757</td>\n",
       "      <td>6.15</td>\n",
       "      <td>6.12</td>\n",
       "      <td>3.74</td>\n",
       "    </tr>\n",
       "    <tr>\n",
       "      <th>53940</th>\n",
       "      <td>0.75</td>\n",
       "      <td>4</td>\n",
       "      <td>2</td>\n",
       "      <td>1</td>\n",
       "      <td>62.2</td>\n",
       "      <td>55.0</td>\n",
       "      <td>2757</td>\n",
       "      <td>5.83</td>\n",
       "      <td>5.87</td>\n",
       "      <td>3.64</td>\n",
       "    </tr>\n",
       "  </tbody>\n",
       "</table>\n",
       "<p>53920 rows × 10 columns</p>\n",
       "</div>"
      ],
      "text/plain": [
       "       carat  cut  color  clarity  depth  table  price     x     y     z\n",
       "1       0.23    4      5        1   61.5   55.0    326  3.95  3.98  2.43\n",
       "2       0.21    3      5        2   59.8   61.0    326  3.89  3.84  2.31\n",
       "3       0.23    1      5        4   56.9   65.0    327  4.05  4.07  2.31\n",
       "4       0.29    3      1        3   62.4   58.0    334  4.20  4.23  2.63\n",
       "5       0.31    1      0        1   63.3   58.0    335  4.34  4.35  2.75\n",
       "...      ...  ...    ...      ...    ...    ...    ...   ...   ...   ...\n",
       "53936   0.72    4      2        2   60.8   57.0   2757  5.75  5.76  3.50\n",
       "53937   0.72    1      2        2   63.1   55.0   2757  5.69  5.75  3.61\n",
       "53938   0.70    2      2        2   62.8   60.0   2757  5.66  5.68  3.56\n",
       "53939   0.86    3      3        1   61.0   58.0   2757  6.15  6.12  3.74\n",
       "53940   0.75    4      2        1   62.2   55.0   2757  5.83  5.87  3.64\n",
       "\n",
       "[53920 rows x 10 columns]"
      ]
     },
     "execution_count": 115,
     "metadata": {},
     "output_type": "execute_result"
    }
   ],
   "source": [
    "# Outlier detection and dropping in x,y,z measurements axis in data \n",
    "\n",
    "diamonds = diamonds.drop(diamonds[diamonds[\"x\"]==0].index)\n",
    "diamonds = diamonds.drop(diamonds[diamonds[\"y\"]==0].index)\n",
    "diamonds = diamonds.drop(diamonds[diamonds[\"z\"]==0].index)\n",
    "\n",
    "diamonds"
   ]
  },
  {
   "cell_type": "code",
   "execution_count": 116,
   "id": "31a94345",
   "metadata": {},
   "outputs": [],
   "source": [
    "# more detailed approach might be required in real-world scenerio. cut the dataset down to the 99th percentile based on \n",
    "# a few different variables to get rid of the most egregious outliers\n",
    "\n",
    "diamonds = diamonds[diamonds['depth'] < diamonds['depth'].quantile(0.99)]\n",
    "diamonds = diamonds[diamonds['table'] < diamonds['table'].quantile(0.99)]\n",
    "diamonds = diamonds[diamonds['x'] < diamonds['x'].quantile(0.99)]\n",
    "diamonds = diamonds[diamonds['y'] < diamonds['x'].quantile(0.99)]\n",
    "diamonds = diamonds[diamonds['z'] < diamonds['x'].quantile(0.99)]"
   ]
  },
  {
   "cell_type": "code",
   "execution_count": 57,
   "id": "5cb35e1e",
   "metadata": {},
   "outputs": [],
   "source": [
    "# Corr heatmap"
   ]
  },
  {
   "cell_type": "code",
   "execution_count": 117,
   "id": "4edc6b78",
   "metadata": {},
   "outputs": [],
   "source": [
    "# Train and Test data creation\n",
    "\n",
    "dia_model = diamonds.copy()\n",
    "X = dia_model.drop(['price'], axis=1)\n",
    "y = dia_model['price']\n",
    "\n",
    "X_train_val, X_test, y_train_val, y_test = train_test_split(X, y, test_size=0.2, random_state=0)\n",
    "X_train, X_val, y_train, y_val = train_test_split(X_train_val, y_train_val, test_size=0.25, random_state=0)\n"
   ]
  },
  {
   "cell_type": "code",
   "execution_count": 121,
   "id": "38b2ee2b",
   "metadata": {},
   "outputs": [],
   "source": [
    "# model creation\n",
    "\n",
    "xgb_reg = XGBRegressor()\n",
    "\n",
    "# \n",
    "#  Defining parameters for gridsearch to find optimal hyperparameters\n",
    "# parameters = {\n",
    "#               'objective':['reg:squarederror'],\n",
    "#               'learning_rate': [.0001, 0.001, .01],\n",
    "#               'max_depth': [3, 5, 7],\n",
    "#               'min_child_weight': [3,5,7],\n",
    "#               'subsample': [0.1,0.5,1.0],\n",
    "#               'colsample_bytree': [0.1, 0.5, 1.0],\n",
    "#               'n_estimators': [500]\n",
    "#              }\n",
    "\n",
    "# xgb_grid = GridSearchCV(xgb1, parameters, cv = 3, n_jobs = -1, verbose=0)\n",
    "\n",
    "\n",
    "xgb_reg.fit(X_train, y_train)\n",
    "\n",
    "eval_set = [(X_train, y_train),(X_val, y_val)]\n",
    "\n",
    "fit_model = xgb_reg.fit(\n",
    "    X_train,\n",
    "    y_train,\n",
    "    eval_set=eval_set,\n",
    "    eval_metric='mae',\n",
    "    early_stopping_rounds=50,\n",
    "    verbose=False)"
   ]
  },
  {
   "cell_type": "code",
   "execution_count": 139,
   "id": "50538777",
   "metadata": {},
   "outputs": [
    {
     "name": "stdout",
     "output_type": "stream",
     "text": [
      "Test_MAE:USD 255.1934632403444\n",
      "Test_MSE: 243867.05271914965\n",
      "Test_R2: 0.9817215475705299\n"
     ]
    }
   ],
   "source": [
    "# Model Test\n",
    "\n",
    "print(\"Test_MAE:USD\", mean_absolute_error(y_val, fit_model.predict(X_val)))\n",
    "print(\"Test_MSE:\", mean_squared_error(y_val, fit_model.predict(X_val)))\n",
    "print(\"Test_R2:\", r2_score(y_val, fit_model.predict(X_val)))"
   ]
  },
  {
   "cell_type": "code",
   "execution_count": 138,
   "id": "581bc6e5",
   "metadata": {},
   "outputs": [
    {
     "name": "stdout",
     "output_type": "stream",
     "text": [
      "Val_AE:USD 261.1462956573404\n",
      "Val_MSE: 258524.12918965024\n",
      "Val_R2: 0.9810199710243127\n"
     ]
    }
   ],
   "source": [
    "# Model validation\n",
    "\n",
    "print(\"Val_AE:USD\", mean_absolute_error(y_test, fit_model.predict(X_test)))\n",
    "print(\"Val_MSE:\", mean_squared_error(y_test, fit_model.predict(X_test)))\n",
    "print(\"Val_R2:\", r2_score(y_test, fit_model.predict(X_test)))"
   ]
  },
  {
   "cell_type": "code",
   "execution_count": 141,
   "id": "03ad9f97",
   "metadata": {},
   "outputs": [],
   "source": [
    "# Saving the model\n",
    "\n",
    "fit_model.save_model('xgb_diamonds_model.json')"
   ]
  },
  {
   "cell_type": "code",
   "execution_count": null,
   "id": "9bc8e0c9",
   "metadata": {},
   "outputs": [],
   "source": []
  }
 ],
 "metadata": {
  "kernelspec": {
   "display_name": "Python 3 (ipykernel)",
   "language": "python",
   "name": "python3"
  },
  "language_info": {
   "codemirror_mode": {
    "name": "ipython",
    "version": 3
   },
   "file_extension": ".py",
   "mimetype": "text/x-python",
   "name": "python",
   "nbconvert_exporter": "python",
   "pygments_lexer": "ipython3",
   "version": "3.8.16"
  }
 },
 "nbformat": 4,
 "nbformat_minor": 5
}
