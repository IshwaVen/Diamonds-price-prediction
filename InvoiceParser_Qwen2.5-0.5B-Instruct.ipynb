{
  "cells": [
    {
      "cell_type": "markdown",
      "metadata": {
        "id": "view-in-github",
        "colab_type": "text"
      },
      "source": [
        "<a href=\"https://colab.research.google.com/github/IshwaVen/Diamonds-price-prediction/blob/main/InvoiceParser_Qwen2.5-0.5B-Instruct.ipynb\" target=\"_parent\"><img src=\"https://colab.research.google.com/assets/colab-badge.svg\" alt=\"Open In Colab\"/></a>"
      ]
    },
    {
      "cell_type": "code",
      "execution_count": null,
      "metadata": {
        "colab": {
          "base_uri": "https://localhost:8080/"
        },
        "id": "TgEgDPzofr1O",
        "outputId": "a8f7f232-7dd9-4d9f-d565-2fa62362c99e"
      },
      "outputs": [
        {
          "output_type": "stream",
          "name": "stdout",
          "text": [
            "Collecting git+https://github.com/huggingface/transformers\n",
            "  Cloning https://github.com/huggingface/transformers to /tmp/pip-req-build-_n21hmqz\n",
            "  Running command git clone --filter=blob:none --quiet https://github.com/huggingface/transformers /tmp/pip-req-build-_n21hmqz\n",
            "  Resolved https://github.com/huggingface/transformers to commit 98adf24883b007c2a7fb17bab1c01b1614673433\n",
            "  Installing build dependencies ... \u001b[?25l\u001b[?25hdone\n",
            "  Getting requirements to build wheel ... \u001b[?25l\u001b[?25hdone\n",
            "  Preparing metadata (pyproject.toml) ... \u001b[?25l\u001b[?25hdone\n",
            "Requirement already satisfied: accelerate in /usr/local/lib/python3.10/dist-packages (0.34.2)\n",
            "Requirement already satisfied: filelock in /usr/local/lib/python3.10/dist-packages (from transformers==4.45.0.dev0) (3.16.0)\n",
            "Requirement already satisfied: huggingface-hub<1.0,>=0.23.2 in /usr/local/lib/python3.10/dist-packages (from transformers==4.45.0.dev0) (0.24.7)\n",
            "Requirement already satisfied: numpy>=1.17 in /usr/local/lib/python3.10/dist-packages (from transformers==4.45.0.dev0) (1.26.4)\n",
            "Requirement already satisfied: packaging>=20.0 in /usr/local/lib/python3.10/dist-packages (from transformers==4.45.0.dev0) (24.1)\n",
            "Requirement already satisfied: pyyaml>=5.1 in /usr/local/lib/python3.10/dist-packages (from transformers==4.45.0.dev0) (6.0.2)\n",
            "Requirement already satisfied: regex!=2019.12.17 in /usr/local/lib/python3.10/dist-packages (from transformers==4.45.0.dev0) (2024.5.15)\n",
            "Requirement already satisfied: requests in /usr/local/lib/python3.10/dist-packages (from transformers==4.45.0.dev0) (2.32.3)\n",
            "Requirement already satisfied: tokenizers<0.20,>=0.19 in /usr/local/lib/python3.10/dist-packages (from transformers==4.45.0.dev0) (0.19.1)\n",
            "Requirement already satisfied: safetensors>=0.4.1 in /usr/local/lib/python3.10/dist-packages (from transformers==4.45.0.dev0) (0.4.5)\n",
            "Requirement already satisfied: tqdm>=4.27 in /usr/local/lib/python3.10/dist-packages (from transformers==4.45.0.dev0) (4.66.5)\n",
            "Requirement already satisfied: psutil in /usr/local/lib/python3.10/dist-packages (from accelerate) (5.9.5)\n",
            "Requirement already satisfied: torch>=1.10.0 in /usr/local/lib/python3.10/dist-packages (from accelerate) (2.4.0+cu121)\n",
            "Requirement already satisfied: fsspec>=2023.5.0 in /usr/local/lib/python3.10/dist-packages (from huggingface-hub<1.0,>=0.23.2->transformers==4.45.0.dev0) (2024.6.1)\n",
            "Requirement already satisfied: typing-extensions>=3.7.4.3 in /usr/local/lib/python3.10/dist-packages (from huggingface-hub<1.0,>=0.23.2->transformers==4.45.0.dev0) (4.12.2)\n",
            "Requirement already satisfied: sympy in /usr/local/lib/python3.10/dist-packages (from torch>=1.10.0->accelerate) (1.13.2)\n",
            "Requirement already satisfied: networkx in /usr/local/lib/python3.10/dist-packages (from torch>=1.10.0->accelerate) (3.3)\n",
            "Requirement already satisfied: jinja2 in /usr/local/lib/python3.10/dist-packages (from torch>=1.10.0->accelerate) (3.1.4)\n",
            "Requirement already satisfied: charset-normalizer<4,>=2 in /usr/local/lib/python3.10/dist-packages (from requests->transformers==4.45.0.dev0) (3.3.2)\n",
            "Requirement already satisfied: idna<4,>=2.5 in /usr/local/lib/python3.10/dist-packages (from requests->transformers==4.45.0.dev0) (3.8)\n",
            "Requirement already satisfied: urllib3<3,>=1.21.1 in /usr/local/lib/python3.10/dist-packages (from requests->transformers==4.45.0.dev0) (2.0.7)\n",
            "Requirement already satisfied: certifi>=2017.4.17 in /usr/local/lib/python3.10/dist-packages (from requests->transformers==4.45.0.dev0) (2024.8.30)\n",
            "Requirement already satisfied: MarkupSafe>=2.0 in /usr/local/lib/python3.10/dist-packages (from jinja2->torch>=1.10.0->accelerate) (2.1.5)\n",
            "Requirement already satisfied: mpmath<1.4,>=1.1.0 in /usr/local/lib/python3.10/dist-packages (from sympy->torch>=1.10.0->accelerate) (1.3.0)\n"
          ]
        }
      ],
      "source": [
        "!python -m pip install git+https://github.com/huggingface/transformers accelerate"
      ]
    },
    {
      "cell_type": "code",
      "source": [
        "!python -m pip install qwen-vl-utils"
      ],
      "metadata": {
        "colab": {
          "base_uri": "https://localhost:8080/"
        },
        "id": "JrWeYfYniFE8",
        "outputId": "8a831b9f-8669-4a46-ce05-8fcf9264b416"
      },
      "execution_count": null,
      "outputs": [
        {
          "output_type": "stream",
          "name": "stdout",
          "text": [
            "Requirement already satisfied: qwen-vl-utils in /usr/local/lib/python3.10/dist-packages (0.0.4)\n",
            "Requirement already satisfied: pillow in /usr/local/lib/python3.10/dist-packages (from qwen-vl-utils) (9.4.0)\n",
            "Requirement already satisfied: requests in /usr/local/lib/python3.10/dist-packages (from qwen-vl-utils) (2.32.3)\n",
            "Requirement already satisfied: charset-normalizer<4,>=2 in /usr/local/lib/python3.10/dist-packages (from requests->qwen-vl-utils) (3.3.2)\n",
            "Requirement already satisfied: idna<4,>=2.5 in /usr/local/lib/python3.10/dist-packages (from requests->qwen-vl-utils) (3.8)\n",
            "Requirement already satisfied: urllib3<3,>=1.21.1 in /usr/local/lib/python3.10/dist-packages (from requests->qwen-vl-utils) (2.0.7)\n",
            "Requirement already satisfied: certifi>=2017.4.17 in /usr/local/lib/python3.10/dist-packages (from requests->qwen-vl-utils) (2024.8.30)\n"
          ]
        }
      ]
    },
    {
      "cell_type": "code",
      "execution_count": null,
      "metadata": {
        "id": "CLUOoJSdKSeL"
      },
      "outputs": [],
      "source": [
        "from transformers import Qwen2VLForConditionalGeneration, AutoTokenizer, AutoProcessor\n",
        "from qwen_vl_utils import process_vision_info\n",
        "import json"
      ]
    },
    {
      "cell_type": "code",
      "execution_count": null,
      "metadata": {
        "id": "Nm0U2z2BKWOS"
      },
      "outputs": [],
      "source": [
        "model = Qwen2VLForConditionalGeneration.from_pretrained(\n",
        "    \"Qwen/Qwen2.5-0.5B-Instruct\",\n",
        "    torch_dtype=\"auto\",\n",
        "    device_map=\"auto\"\n",
        ")\n",
        "\n",
        "processor = AutoProcessor.from_pretrained(\n",
        "    \"Qwen/Qwen2-VL-7B-Instruct\"\n",
        ")"
      ]
    },
    {
      "cell_type": "code",
      "execution_count": null,
      "metadata": {
        "id": "Zh4UasKiLmxa"
      },
      "outputs": [],
      "source": [
        "messages = [\n",
        "    {\n",
        "        \"role\": \"user\",\n",
        "        \"content\": [\n",
        "            {\n",
        "                \"type\": \"image\",\n",
        "                \"image\": \"file:////content/sample_data/invoice_1.jpg\",\n",
        "                \"resized_height\": 1753,\n",
        "                \"resized_width\": 1240,\n",
        "            },\n",
        "            {\n",
        "                \"type\": \"text\",\n",
        "                # \"text\": \"retrieve invoice items table data. return response in JSON format\"\n",
        "                # \"text\": \"retrieve description and gross worth data from invoice items table. return response in JSON format\"\n",
        "                \"text\": \"retrieve invoice_number, date_of_issue, seller_info, client_info, seller_tax_id, client_tax_id, iban, invoice_items_table, invoice_summary_table. return response in JSON format\"\n",
        "            }\n",
        "        ]\n",
        "    }\n",
        "]\n",
        "\n",
        "# Preparation for inference\n",
        "text = processor.apply_chat_template(\n",
        "    messages, tokenize=False, add_generation_prompt=True\n",
        ")\n",
        "\n",
        "image_inputs, video_inputs = process_vision_info(messages)\n",
        "inputs = processor(\n",
        "    text=[text],\n",
        "    images=image_inputs,\n",
        "    videos=video_inputs,\n",
        "    padding=True,\n",
        "    return_tensors=\"pt\",\n",
        ")\n",
        "inputs = inputs.to(\"cuda\")\n",
        "\n",
        "# Inference: Generation of the output\n",
        "generated_ids = model.generate(**inputs, max_new_tokens=1024)\n",
        "generated_ids_trimmed = [\n",
        "    out_ids[len(in_ids) :] for in_ids, out_ids in zip(inputs.input_ids, generated_ids)\n",
        "]\n",
        "output_text = processor.batch_decode(\n",
        "    generated_ids_trimmed, skip_special_tokens=True, clean_up_tokenization_spaces=True\n",
        ")"
      ]
    },
    {
      "cell_type": "code",
      "source": [
        "json_string = output_text[0]\n",
        "\n",
        "json_string = json_string.strip(\"[]'\")\n",
        "json_string = json_string.replace(\"```json\\n\", \"\").replace(\"\\n```\", \"\")\n",
        "json_string = json_string.replace(\"'\", \"\")\n",
        "\n",
        "try:\n",
        "    formatted_json = json.loads(json_string)\n",
        "    print(json.dumps(formatted_json, indent=2))\n",
        "except json.JSONDecodeError as e:\n",
        "    print(\"Failed to parse JSON:\", e)"
      ],
      "metadata": {
        "colab": {
          "base_uri": "https://localhost:8080/"
        },
        "id": "6u_P_16qbIuf",
        "outputId": "51dd1800-7f4f-4b07-caf9-a66285fdbbc7"
      },
      "execution_count": null,
      "outputs": [
        {
          "output_type": "stream",
          "name": "stdout",
          "text": [
            "{\n",
            "  \"invoice_number\": \"61356291\",\n",
            "  \"date_of_issue\": \"09/06/2012\",\n",
            "  \"seller_info\": {\n",
            "    \"name\": \"Chapman, Kim and Green\",\n",
            "    \"address\": \"64731 James Branch, Smithmouth, NC 26872\",\n",
            "    \"tax_id\": \"949-84-9105\",\n",
            "    \"iban\": \"GB50ACIE59715038217063\"\n",
            "  },\n",
            "  \"client_info\": {\n",
            "    \"name\": \"Rodriguez-Stevens\",\n",
            "    \"address\": \"2280 Angela Plain, Hortonshire, MS 93248\",\n",
            "    \"tax_id\": \"939-98-8477\"\n",
            "  },\n",
            "  \"invoice_items_table\": [\n",
            "    {\n",
            "      \"no\": 1,\n",
            "      \"description\": \"Wine Glasses Goblets Pair Clear Glass\",\n",
            "      \"quantity\": 5,\n",
            "      \"unit\": \"each\",\n",
            "      \"net_price\": 12.0,\n",
            "      \"net_worth\": 60.0,\n",
            "      \"vat\": 10,\n",
            "      \"gross_worth\": 66.0\n",
            "    },\n",
            "    {\n",
            "      \"no\": 2,\n",
            "      \"description\": \"With Hooks Stemware Storage Multiple Uses Iron Wine Rack Hanging Glass\",\n",
            "      \"quantity\": 4,\n",
            "      \"unit\": \"each\",\n",
            "      \"net_price\": 28.08,\n",
            "      \"net_worth\": 112.32,\n",
            "      \"vat\": 10,\n",
            "      \"gross_worth\": 123.55\n",
            "    },\n",
            "    {\n",
            "      \"no\": 3,\n",
            "      \"description\": \"Replacement Corkscrew Parts Spiral Worm Wine Opener Bottle Houdini\",\n",
            "      \"quantity\": 1,\n",
            "      \"unit\": \"each\",\n",
            "      \"net_price\": 7.5,\n",
            "      \"net_worth\": 7.5,\n",
            "      \"vat\": 10,\n",
            "      \"gross_worth\": 8.25\n",
            "    },\n",
            "    {\n",
            "      \"no\": 4,\n",
            "      \"description\": \"HOME ESSENTIALS GRADIENT STEMLESS WINE GLASSES SET OF 4 20 FL OZ (591 ml) NEW\",\n",
            "      \"quantity\": 1,\n",
            "      \"unit\": \"each\",\n",
            "      \"net_price\": 12.99,\n",
            "      \"net_worth\": 12.99,\n",
            "      \"vat\": 10,\n",
            "      \"gross_worth\": 14.29\n",
            "    }\n",
            "  ],\n",
            "  \"invoice_summary_table\": {\n",
            "    \"vat\": 19.28,\n",
            "    \"net_worth\": 192.81,\n",
            "    \"gross_worth\": 212.09\n",
            "  }\n",
            "}\n"
          ]
        }
      ]
    }
  ],
  "metadata": {
    "accelerator": "GPU",
    "colab": {
      "gpuType": "A100",
      "provenance": [],
      "machine_shape": "hm",
      "include_colab_link": true
    },
    "kernelspec": {
      "display_name": "Python 3",
      "name": "python3"
    },
    "language_info": {
      "name": "python"
    }
  },
  "nbformat": 4,
  "nbformat_minor": 0
}